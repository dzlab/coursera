{
 "cells": [],
 "metadata": {
  "environment": {
   "name": "tf2-cpu.2-5.m76",
   "type": "gcloud",
   "uri": "gcr.io/deeplearning-platform-release/tf2-cpu.2-5:m76"
  }
 },
 "nbformat": 4,
 "nbformat_minor": 5
}
