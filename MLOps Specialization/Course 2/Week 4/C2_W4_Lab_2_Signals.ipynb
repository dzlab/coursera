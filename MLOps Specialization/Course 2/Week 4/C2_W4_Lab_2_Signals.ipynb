{
 "cells": [
  {
   "cell_type": "markdown",
   "metadata": {
    "id": "cuiRLVk1oG_X"
   },
   "source": [
    "# Ungraded Lab: Feature Engineering with Accelerometer Data"
   ]
  },
  {
   "cell_type": "markdown",
   "metadata": {
    "id": "mtQWmTSsO_-Q"
   },
   "source": [
    "This notebook demonstrates how to prepare time series data taken from an accelerometer. We will be using the [WISDM Human Activity Recognition Dataset](http://www.cis.fordham.edu/wisdm/dataset.php) for this example. This dataset can be used to predict the activity a user performs from a set of acceleration values recorded from the accelerometer data of a smartphone.\n",
    "\n",
    "The dataset consists of accelerometer data in the x, y, and z-axis recorded for 36 user different users. A total of 6 activities like 'Walking','Jogging', 'Upstairs', 'Downstairs', 'Sitting', 'Standing' etc. were recorded. The sensors have a sampling rate of 20Hz which means there are 20 observations recorded per second."
   ]
  },
  {
   "cell_type": "markdown",
   "metadata": {
    "id": "iyHZtPotQhL0"
   },
   "source": [
    "## Imports"
   ]
  },
  {
   "cell_type": "code",
   "execution_count": null,
   "metadata": {},
   "outputs": [],
   "source": [
    "import tensorflow as tf\n",
    "import tensorflow_transform as tft\n",
    "\n",
    "from tfx.components import CsvExampleGen\n",
    "from tfx.components import ExampleValidator\n",
    "from tfx.components import SchemaGen\n",
    "from tfx.components import StatisticsGen\n",
    "from tfx.components import Transform\n",
    "\n",
    "from tfx.orchestration.experimental.interactive.interactive_context import InteractiveContext\n",
    "from google.protobuf.json_format import MessageToDict\n",
    "\n",
    "import os\n",
    "import pprint\n",
    "import pandas as pd\n",
    "import numpy as np\n",
    "import urllib\n",
    "\n",
    "pp = pprint.PrettyPrinter()"
   ]
  },
  {
   "cell_type": "markdown",
   "metadata": {
    "id": "ll_BqMx4QyP5"
   },
   "source": [
    "## Extract the Data"
   ]
  },
  {
   "cell_type": "code",
   "execution_count": null,
   "metadata": {},
   "outputs": [],
   "source": [
    "# Setup paths and filenames\n",
    "working_dir = './data/'\n",
    "TRANSFORM_TRAIN_FILENAME = 'transform_train'\n",
    "TRANSFORM_TEST_FILENAME = 'transform_test'\n",
    "TRANSFORM_TEMP_DIR = 'tft_temp'\n",
    "INPUT_FILE = './data/WISDM_ar_v1.1/WISDM_ar_v1.1_raw.txt'"
   ]
  },
  {
   "cell_type": "code",
   "execution_count": null,
   "metadata": {
    "id": "Lu4uJ4RgEfE8"
   },
   "outputs": [],
   "source": [
    "# Extract the data\n",
    "!tar -xvf ./data/human_activity/raw/WISDM_ar_latest.tar.gz -C ./data/human_activity/raw/"
   ]
  },
  {
   "cell_type": "markdown",
   "metadata": {
    "id": "oKDJaZfEQ1yT"
   },
   "source": [
    "## Inspect the Dataset\n",
    "\n",
    "### Utilities\n",
    "\n",
    "Since this is accelerometer data, it would be good to visualize different aspects of the measurements. You can look at the frequency of activities, or plot the measurements against time. These utility functions will help in doing that."
   ]
  },
  {
   "cell_type": "code",
   "execution_count": null,
   "metadata": {
    "cellView": "both",
    "id": "YK9tAyLVCgTe"
   },
   "outputs": [],
   "source": [
    "# Visulaization Utilities\n",
    "import matplotlib.pyplot as plt\n",
    "import seaborn as sns\n",
    "from matplotlib import pyplot\n",
    "\n",
    "def visualize_value_plots_for_categorical_feature(feature, colors=['b']):\n",
    "    '''Plots a bar graph for categorical features'''\n",
    "    counts = feature.value_counts()\n",
    "    plt.bar(counts.index, counts.values, color=colors)\n",
    "    plt.show()\n",
    "\n",
    "\n",
    "def visualize_plots(dataset, activity, columns):\n",
    "    '''Visualizes the accelerometer data against time'''\n",
    "    features = dataset[dataset['activity'] == activity][columns][:200]\n",
    "    if 'z-acc' in columns:\n",
    "        features['z-acc'] = features['z-acc'].replace(regex=True, to_replace=r';', value=r'')\n",
    "        features['z-acc'] = features['z-acc'].astype(np.float64)\n",
    "    axis = features.plot(subplots=True, figsize=(16, 12), \n",
    "                     title=activity)\n",
    "\n",
    "    for ax in axis:\n",
    "        ax.legend(loc='lower left', bbox_to_anchor=(1.0, 0.5))"
   ]
  },
  {
   "cell_type": "markdown",
   "metadata": {},
   "source": [
    "### Clean the data\n",
    "\n",
    "You will also need to clean stray characters that may misrepresent your data. For this particular dataset, there is a semicolon at the end of each row and this will cause the z-acceleration to be interpreted as a string. Let's clean that up in the cells below."
   ]
  },
  {
   "cell_type": "code",
   "execution_count": null,
   "metadata": {
    "id": "MipCmynFWD47"
   },
   "outputs": [],
   "source": [
    "# Set up paths\n",
    "RAW_DATA_PATH = 'data/human_activity/raw/WISDM_ar_v1.1/WISDM_ar_v1.1_raw.txt'\n",
    "CLEAN_DATA_PATH = 'data/human_activity/pipeline_data'\n",
    "\n",
    "# Create clean data path (raw data path already exists)\n",
    "!mkdir {CLEAN_DATA_PATH}"
   ]
  },
  {
   "cell_type": "code",
   "execution_count": null,
   "metadata": {},
   "outputs": [],
   "source": [
    "# Preview the dataset. See the semicolon at the end of each line.\n",
    "!head data/human_activity/raw/WISDM_ar_v1.1/WISDM_ar_v1.1_raw.txt"
   ]
  },
  {
   "cell_type": "code",
   "execution_count": null,
   "metadata": {},
   "outputs": [],
   "source": [
    "# Load the dataset and set the column names\n",
    "df = pd.read_csv(RAW_DATA_PATH, header=None, names=['user_id', 'activity', 'timestamp', 'x-acc','y-acc', 'z-acc'])\n",
    "\n",
    "# Remove semicolon at the end of every row\n",
    "df['z-acc'] = df['z-acc'].replace({';':''}, regex=True)\n",
    "\n",
    "# Write the file to the clean data path\n",
    "df.to_csv(f'{CLEAN_DATA_PATH}/human_activity.csv', index=False)"
   ]
  },
  {
   "cell_type": "code",
   "execution_count": null,
   "metadata": {},
   "outputs": [],
   "source": [
    "# See the results. The semicolon should now be removed.\n",
    "!head {CLEAN_DATA_PATH}/human_activity.csv"
   ]
  },
  {
   "cell_type": "markdown",
   "metadata": {
    "id": "vkvdKe6NP3EL"
   },
   "source": [
    "### Histogram of Activities\n",
    "\n",
    "You can now proceed with the visualizations. You can plot the histogram of activities and make your observations. For instance, you'll notice that there is more data for walking and jogging than other activities. This might have an effect on how your model learns each activity so you should take note of it."
   ]
  },
  {
   "cell_type": "code",
   "execution_count": null,
   "metadata": {
    "id": "dva7JfmGDGQT"
   },
   "outputs": [],
   "source": [
    "# Plot the histogram of activities\n",
    "visualize_value_plots_for_categorical_feature(df['activity'], colors=['r', 'g', 'b', 'y', 'm', 'c'])"
   ]
  },
  {
   "cell_type": "markdown",
   "metadata": {
    "id": "Oj1bf2WZQHN8"
   },
   "source": [
    "### Histogram of Measurements per User\n",
    "You can also observe the number of measurements taken per user. From the plot below, you can see that for the 36 users in the study, the number of observations per user is mostly steady except for a few."
   ]
  },
  {
   "cell_type": "code",
   "execution_count": null,
   "metadata": {
    "id": "8jJhG5DMFj-d"
   },
   "outputs": [],
   "source": [
    "# Plot the histogram for users\n",
    "visualize_value_plots_for_categorical_feature(df['user_id'])"
   ]
  },
  {
   "cell_type": "markdown",
   "metadata": {
    "id": "gY9wwg10QrXo"
   },
   "source": [
    "### Acceleration per Activity\n",
    "\n",
    "Finally, you can plot the sensor measurements against the timestamps. You can observe that acceleration is more for activities like jogging when compared to sitting which should be the expected behaviour. If this is not the case, then there might be problems with the sensor and can make the data invalid."
   ]
  },
  {
   "cell_type": "code",
   "execution_count": null,
   "metadata": {
    "id": "sLa8UAe3JDZ3"
   },
   "outputs": [],
   "source": [
    "# Plot the measurements for `Jogging`\n",
    "visualize_plots(df, 'Jogging', columns=['x-acc', 'y-acc', 'z-acc'])"
   ]
  },
  {
   "cell_type": "code",
   "execution_count": null,
   "metadata": {
    "id": "Z1CvWGpEQwKO"
   },
   "outputs": [],
   "source": [
    "# Plot the measurements for `Sitting`\n",
    "visualize_plots(df, 'Sitting', columns=['x-acc', 'y-acc', 'z-acc'])"
   ]
  },
  {
   "cell_type": "markdown",
   "metadata": {},
   "source": [
    "## Data Pipeline\n",
    "\n",
    "You can now feed the data into the TFX pipeline. As in the previous labs, we won't go over too much on the first few stages of the pipeline since you've already done it before."
   ]
  },
  {
   "cell_type": "code",
   "execution_count": null,
   "metadata": {},
   "outputs": [],
   "source": [
    "# location of the pipeline metadata store\n",
    "_pipeline_root = './pipeline/'\n",
    "\n",
    "# directory of the raw data files\n",
    "_data_root = './data/human_activity/pipeline_data'"
   ]
  },
  {
   "cell_type": "code",
   "execution_count": null,
   "metadata": {},
   "outputs": [],
   "source": [
    "# Initialize the InteractiveContext.\n",
    "# If you leave `_pipeline_root` blank, then the db will be created in a temporary directory.\n",
    "context = InteractiveContext(pipeline_root=_pipeline_root)"
   ]
  },
  {
   "cell_type": "markdown",
   "metadata": {},
   "source": [
    "### ExampleGen"
   ]
  },
  {
   "cell_type": "code",
   "execution_count": null,
   "metadata": {},
   "outputs": [],
   "source": [
    "# Instantiate ExampleGen with the input CSV dataset\n",
    "example_gen = CsvExampleGen(input_base=_data_root)\n",
    "\n",
    "# Execute the component\n",
    "context.run(example_gen)"
   ]
  },
  {
   "cell_type": "markdown",
   "metadata": {},
   "source": [
    "### Preview the Ingested Dataset"
   ]
  },
  {
   "cell_type": "code",
   "execution_count": null,
   "metadata": {},
   "outputs": [],
   "source": [
    "# get the artifact object\n",
    "artifact = example_gen.outputs['examples'].get()[0]\n",
    "\n",
    "# print split names and uri\n",
    "print(f'split names: {artifact.split_names}')\n",
    "print(f'artifact uri: {artifact.uri}')"
   ]
  },
  {
   "cell_type": "code",
   "execution_count": null,
   "metadata": {},
   "outputs": [],
   "source": [
    "# Get the URI of the output artifact representing the training examples\n",
    "train_uri = os.path.join(artifact.uri, 'train')\n",
    "\n",
    "# See the contents of the `train` folder\n",
    "!ls {train_uri}"
   ]
  },
  {
   "cell_type": "code",
   "execution_count": null,
   "metadata": {},
   "outputs": [],
   "source": [
    "# Get the list of files in this directory (all compressed TFRecord files)\n",
    "tfrecord_filenames = [os.path.join(train_uri, name)\n",
    "                      for name in os.listdir(train_uri)]\n",
    "\n",
    "# Create a `TFRecordDataset` to read these files\n",
    "dataset = tf.data.TFRecordDataset(tfrecord_filenames, compression_type=\"GZIP\")"
   ]
  },
  {
   "cell_type": "code",
   "execution_count": null,
   "metadata": {},
   "outputs": [],
   "source": [
    "# Define a helper function to get individual examples\n",
    "def get_records(dataset, num_records):\n",
    "    '''Extracts records from the given dataset.\n",
    "    Args:\n",
    "        dataset (TFRecordDataset): dataset saved by ExampleGen\n",
    "        num_records (int): number of records to preview\n",
    "    '''\n",
    "    \n",
    "    # initialize an empty list\n",
    "    records = []\n",
    "    \n",
    "    # Use the `take()` method to specify how many records to get\n",
    "    for tfrecord in dataset.take(num_records):\n",
    "        \n",
    "        # Get the numpy property of the tensor\n",
    "        serialized_example = tfrecord.numpy()\n",
    "        \n",
    "        # Initialize a `tf.train.Example()` to read the serialized data\n",
    "        example = tf.train.Example()\n",
    "        \n",
    "        # Read the example data (output is a protocol buffer message)\n",
    "        example.ParseFromString(serialized_example)\n",
    "        \n",
    "        # convert the protocol bufffer message to a Python dictionary\n",
    "        example_dict = (MessageToDict(example))\n",
    "        \n",
    "        # append to the records list\n",
    "        records.append(example_dict)\n",
    "        \n",
    "    return records"
   ]
  },
  {
   "cell_type": "code",
   "execution_count": null,
   "metadata": {},
   "outputs": [],
   "source": [
    "# Get 3 records from the dataset\n",
    "sample_records = get_records(dataset, 3)\n",
    "\n",
    "# Print the output\n",
    "pp.pprint(sample_records)"
   ]
  },
  {
   "cell_type": "markdown",
   "metadata": {},
   "source": [
    "### StatisticsGen"
   ]
  },
  {
   "cell_type": "code",
   "execution_count": null,
   "metadata": {},
   "outputs": [],
   "source": [
    "# Instantiate StatisticsGen with the ExampleGen ingested dataset\n",
    "statistics_gen = StatisticsGen(\n",
    "    examples=example_gen.outputs['examples'])\n",
    "\n",
    "# Execute the component\n",
    "context.run(statistics_gen)"
   ]
  },
  {
   "cell_type": "code",
   "execution_count": null,
   "metadata": {},
   "outputs": [],
   "source": [
    "# Show the output statistics\n",
    "context.show(statistics_gen.outputs['statistics'])"
   ]
  },
  {
   "cell_type": "markdown",
   "metadata": {},
   "source": [
    "### SchemaGen"
   ]
  },
  {
   "cell_type": "code",
   "execution_count": null,
   "metadata": {},
   "outputs": [],
   "source": [
    "# Instantiate SchemaGen with the StatisticsGen ingested dataset\n",
    "schema_gen = SchemaGen(\n",
    "    statistics=statistics_gen.outputs['statistics'],\n",
    "    )\n",
    "\n",
    "# Run the component\n",
    "context.run(schema_gen)"
   ]
  },
  {
   "cell_type": "code",
   "execution_count": null,
   "metadata": {
    "scrolled": false
   },
   "outputs": [],
   "source": [
    "# Visualize the schema\n",
    "context.show(schema_gen.outputs['schema'])"
   ]
  },
  {
   "cell_type": "markdown",
   "metadata": {},
   "source": [
    "### ExampleValidator"
   ]
  },
  {
   "cell_type": "code",
   "execution_count": null,
   "metadata": {},
   "outputs": [],
   "source": [
    "# Instantiate ExampleValidator with the StatisticsGen and SchemaGen ingested data\n",
    "example_validator = ExampleValidator(\n",
    "    statistics=statistics_gen.outputs['statistics'],\n",
    "    schema=schema_gen.outputs['schema'])\n",
    "\n",
    "# Run the component.\n",
    "context.run(example_validator)"
   ]
  },
  {
   "cell_type": "code",
   "execution_count": null,
   "metadata": {},
   "outputs": [],
   "source": [
    "# Visualize the results\n",
    "context.show(example_validator.outputs['anomalies'])"
   ]
  },
  {
   "cell_type": "markdown",
   "metadata": {},
   "source": [
    "### Transform"
   ]
  },
  {
   "cell_type": "code",
   "execution_count": null,
   "metadata": {},
   "outputs": [],
   "source": [
    "# Set the constants module filename\n",
    "_activity_constants_module_file = 'activity_constants.py'"
   ]
  },
  {
   "cell_type": "code",
   "execution_count": null,
   "metadata": {},
   "outputs": [],
   "source": [
    "%%writefile {_activity_constants_module_file}\n",
    "\n",
    "# Numerical features that are marked as continuous\n",
    "INT_FEATURES = ['user_id', 'timestamp']\n",
    "\n",
    "# Feature that can be grouped into buckets\n",
    "FLOAT_FEATURES = ['x-acc', 'y-acc', 'z-acc']\n",
    "\n",
    "# Feature that the model will predict\n",
    "LABEL_KEY = 'activity'\n",
    "\n",
    "# Utility function for renaming the feature\n",
    "def transformed_name(key):\n",
    "    return key + '_xf'"
   ]
  },
  {
   "cell_type": "code",
   "execution_count": null,
   "metadata": {},
   "outputs": [],
   "source": [
    "# Set the transform module filename\n",
    "_activity_transform_module_file = 'activity_transform.py'"
   ]
  },
  {
   "cell_type": "code",
   "execution_count": null,
   "metadata": {},
   "outputs": [],
   "source": [
    "%%writefile {_activity_transform_module_file}\n",
    "\n",
    "import tensorflow as tf\n",
    "import tensorflow_transform as tft\n",
    "\n",
    "import activity_constants\n",
    "import importlib\n",
    "\n",
    "importlib.reload(activity_constants)\n",
    "\n",
    "# Unpack the contents of the constants module\n",
    "_INT_FEATURES = activity_constants.INT_FEATURES\n",
    "_FLOAT_FEATURES = activity_constants.FLOAT_FEATURES\n",
    "_LABEL_KEY = activity_constants.LABEL_KEY\n",
    "_transformed_name = activity_constants.transformed_name\n",
    "\n",
    "\n",
    "# Define the transformations\n",
    "def preprocessing_fn(inputs):\n",
    "    \"\"\"tf.transform's callback function for preprocessing inputs.\n",
    "    Args:\n",
    "        inputs: map from feature keys to raw not-yet-transformed features.\n",
    "    Returns:\n",
    "        Map from string feature key to transformed feature operations.\n",
    "    \"\"\"\n",
    "    outputs = {}\n",
    "\n",
    "    outputs[_transformed_name(_LABEL_KEY)] = tft.compute_and_apply_vocabulary(inputs[_LABEL_KEY],vocab_filename=_LABEL_KEY)\n",
    "\n",
    "    for key in _FLOAT_FEATURES:\n",
    "        outputs[_transformed_name(key)] = tft.scale_by_min_max(inputs[key])\n",
    "\n",
    "    return outputs"
   ]
  },
  {
   "cell_type": "code",
   "execution_count": null,
   "metadata": {},
   "outputs": [],
   "source": [
    "# Ignore TF warning messages\n",
    "tf.get_logger().setLevel('ERROR')\n",
    "\n",
    "# Instantiate the Transform component\n",
    "transform = Transform(\n",
    "    examples=example_gen.outputs['examples'],\n",
    "    schema=schema_gen.outputs['schema'],\n",
    "    module_file=os.path.abspath(_activity_transform_module_file))\n",
    "\n",
    "# Run the component\n",
    "context.run(transform)"
   ]
  },
  {
   "cell_type": "code",
   "execution_count": null,
   "metadata": {},
   "outputs": [],
   "source": [
    "# Get the URI of the output artifact representing the transformed examples\n",
    "train_uri = os.path.join(transform.outputs['transformed_examples'].get()[0].uri, 'train')\n",
    "\n",
    "# Get the list of files in this directory (all compressed TFRecord files)\n",
    "tfrecord_filenames = [os.path.join(train_uri, name)\n",
    "                      for name in os.listdir(train_uri)]\n",
    "\n",
    "# Create a `TFRecordDataset` to read these files\n",
    "transformed_dataset = tf.data.TFRecordDataset(tfrecord_filenames, compression_type=\"GZIP\")"
   ]
  },
  {
   "cell_type": "code",
   "execution_count": null,
   "metadata": {},
   "outputs": [],
   "source": [
    "# Get 3 records from the dataset\n",
    "sample_records_xf = get_records(transformed_dataset, 3)\n",
    "\n",
    "# Print the output\n",
    "pp.pprint(sample_records_xf)"
   ]
  },
  {
   "cell_type": "markdown",
   "metadata": {
    "id": "-CqjN6qrTzQ5"
   },
   "source": [
    "## Prepare Dataset Window\n",
    "\n",
    "Now that you have the transformed examples, you now need to prepare the dataset window for this time series data. As discussed in class, you want to group a series of measurements and that will be the feature for a particular label. In this particular case, it makes sense to group consecutive measurements and use that as the indicator for an activity. For example, if you take 80 measurements and it oscillates greatly (just like in the visualizations in the earlier parts of this notebook), then the model should be able to tell that it is a 'Running' activity. Let's implement that in the following cells using the [tf.data.Dataset.window()](https://www.tensorflow.org/api_docs/python/tf/data/Dataset#window) method."
   ]
  },
  {
   "cell_type": "code",
   "execution_count": null,
   "metadata": {
    "id": "9J8ljQwSQh8b"
   },
   "outputs": [],
   "source": [
    "# Get the URI of the output graph\n",
    "transform_graph_uri = transform.outputs['transform_graph'].get()[0].uri\n",
    "\n",
    "# Wrap output graph with TFTTransformOutput\n",
    "tf_transform_output = tft.TFTransformOutput(transform_graph_uri)"
   ]
  },
  {
   "cell_type": "code",
   "execution_count": null,
   "metadata": {
    "id": "XQxYFAXkNUwP"
   },
   "outputs": [],
   "source": [
    "# Parameters\n",
    "HISTORY_SIZE = 80\n",
    "BATCH_SIZE = 100\n",
    "SHIFT = 40\n",
    "\n",
    "# Helper functions\n",
    "def parse_function(example_proto):\n",
    "    '''Parse the values from tf examples'''\n",
    "    feature_spec = tf_transform_output.transformed_feature_spec()\n",
    "    features = tf.io.parse_single_example(example_proto, feature_spec)\n",
    "    values = list(features.values())\n",
    "    values = [float(_fill_in_missing(value)) for value in values]    \n",
    "    features = tf.stack(values, axis=0)\n",
    "    return features\n",
    "\n",
    "def add_mode(features):\n",
    "    '''Calculate mode of activity for the current history size of elements'''\n",
    "    features = tf.squeeze(features)\n",
    "    unique, _, count = tf.unique_with_counts(features[:,0])\n",
    "    max_occurrences = tf.reduce_max(count)\n",
    "    max_cond = tf.equal(count, max_occurrences)\n",
    "    max_numbers = tf.squeeze(tf.gather(unique, tf.where(max_cond)))\n",
    "\n",
    "    #Features (X) are all features except activity (x-acc, y-acc, z-acc)\n",
    "    #Target(Y) is the mode of activity values of all rows in this window\n",
    "    return (features[:,1:], max_numbers)\n",
    "\n",
    "def get_dataset(path):\n",
    "    '''Get the dataset and group them into windows'''\n",
    "    dataset = tf.data.TFRecordDataset(path, compression_type=\"GZIP\")\n",
    "    dataset = dataset.map(parse_function)\n",
    "    dataset = dataset.window(HISTORY_SIZE, shift=SHIFT, drop_remainder=True)\n",
    "    dataset = dataset.flat_map(lambda window: window.batch(HISTORY_SIZE))\n",
    "\n",
    "    dataset = dataset.map(add_mode)\n",
    "    dataset = dataset.batch(BATCH_SIZE)\n",
    "    dataset = dataset.repeat()\n",
    "\n",
    "    return dataset\n",
    "\n",
    "def _fill_in_missing(x):\n",
    "    \"\"\"Replace missing values in a SparseTensor.\n",
    "    Fills in missing values of `x` with '' or 0, and converts to a dense tensor.\n",
    "    Args:\n",
    "    x: A `SparseTensor` of rank 2.  Its dense shape should have size at most 1\n",
    "      in the second dimension.\n",
    "    Returns:\n",
    "    A rank 1 tensor where missing values of `x` have been filled in.\n",
    "    \"\"\"\n",
    "    default_value = '' if x.dtype == tf.string else 0\n",
    "    return tf.sparse.to_dense(x, default_value)"
   ]
  },
  {
   "cell_type": "code",
   "execution_count": null,
   "metadata": {
    "id": "i0grFNuaTsk3"
   },
   "outputs": [],
   "source": [
    "# Get the URI of the transformed examples\n",
    "working_dir = transform.outputs['transformed_examples'].get()[0].uri\n",
    "\n",
    "# Get the filename of the compressed examples\n",
    "train_tfrecord_files = os.listdir(working_dir + '/train')[0]\n",
    "\n",
    "# Full path string to the training tfrecord files\n",
    "path_to_train_tfrecord_files = os.path.join(working_dir, 'train', train_tfrecord_files)\n",
    "\n",
    "# Get the window datasets by passing the full path to the get_dataset function\n",
    "train_dataset = get_dataset(path_to_train_tfrecord_files)\n",
    "\n",
    "# Preview the results for 1 record\n",
    "for x, y in train_dataset.take(1):\n",
    "    print(\"\\nFeatures (x-acc, y-acc, z-acc):\\n\")\n",
    "    print(x)\n",
    "    print(\"\\nTarget (activity):\\n\")\n",
    "    print(y)"
   ]
  },
  {
   "cell_type": "markdown",
   "metadata": {},
   "source": [
    "You should see a sample of a dataset window above. There are 80 consecutive measurements of `x-acc`, `y-acc`, and `z-acc` that correspond to a single labeled activity. Moreover, you also set it up to be in batches of 100 windows. This can now be fed to train an LSTM so it can learn how to detect activities based on 80-measurement windows."
   ]
  },
  {
   "cell_type": "markdown",
   "metadata": {},
   "source": [
    "## Wrap Up\n",
    "\n",
    "In this lab, you were able to prepare time-series data from an accelerometer to transformed features that are grouped into windows to make predictions. The same concept can be applied to any data where it makes sense to take a few seconds of measurements before the model makes a prediction. "
   ]
  }
 ],
 "metadata": {
  "colab": {
   "collapsed_sections": [],
   "name": "L3_Sensors_and_Signals_TF_Transform.ipynb",
   "provenance": [
    {
     "file_id": "1kQCnB1brr-bvWIaJKDh0evj62gTrNOQk",
     "timestamp": 1601093795056
    },
    {
     "file_id": "1rFw-UWOSYi3ukMYTDYCKV5BEwqTLbKWh",
     "timestamp": 1600119500837
    },
    {
     "file_id": "1qSv1A6jfA4k-KZ1QLDjmc1FswqRccwRb",
     "timestamp": 1591710915886
    },
    {
     "file_id": "1nCj0Nz77G7XNZa8fAfAWdagDSCMkkNXY",
     "timestamp": 1590909907422
    },
    {
     "file_id": "1ChvhlKBhKppc6w84hgpy6vG_7EVKesF-",
     "timestamp": 1590676485810
    }
   ],
   "toc_visible": true
  },
  "kernelspec": {
   "display_name": "Python 3",
   "language": "python",
   "name": "python3"
  },
  "language_info": {
   "codemirror_mode": {
    "name": "ipython",
    "version": 3
   },
   "file_extension": ".py",
   "mimetype": "text/x-python",
   "name": "python",
   "nbconvert_exporter": "python",
   "pygments_lexer": "ipython3",
   "version": "3.8.8"
  }
 },
 "nbformat": 4,
 "nbformat_minor": 1
}
